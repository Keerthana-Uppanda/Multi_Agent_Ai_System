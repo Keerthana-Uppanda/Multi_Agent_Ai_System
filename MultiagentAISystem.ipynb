{
  "nbformat": 4,
  "nbformat_minor": 0,
  "metadata": {
    "colab": {
      "provenance": [],
      "authorship_tag": "ABX9TyP+sf8dUad6SEwgwlh7fu+X",
      "include_colab_link": true
    },
    "kernelspec": {
      "name": "python3",
      "display_name": "Python 3"
    },
    "language_info": {
      "name": "python"
    }
  },
  "cells": [
    {
      "cell_type": "markdown",
      "metadata": {
        "id": "view-in-github",
        "colab_type": "text"
      },
      "source": [
        "<a href=\"https://colab.research.google.com/github/Keerthana-Uppanda/Multi_Agent_Ai_System/blob/main/MultiagentAISystem.ipynb\" target=\"_parent\"><img src=\"https://colab.research.google.com/assets/colab-badge.svg\" alt=\"Open In Colab\"/></a>"
      ]
    },
    {
      "cell_type": "code",
      "execution_count": null,
      "metadata": {
        "colab": {
          "base_uri": "https://localhost:8080/"
        },
        "id": "8Ze3ee1Sos3a",
        "outputId": "88ee77ae-3ce3-4a42-c7b1-322259d8d53a"
      },
      "outputs": [
        {
          "output_type": "stream",
          "name": "stdout",
          "text": [
            "Reading package lists... Done\n",
            "Building dependency tree... Done\n",
            "Reading state information... Done\n",
            "The following additional packages will be installed:\n",
            "  libjemalloc2 liblua5.1-0 liblzf1 lua-bitop lua-cjson redis-tools\n",
            "Suggested packages:\n",
            "  ruby-redis\n",
            "The following NEW packages will be installed:\n",
            "  libjemalloc2 liblua5.1-0 liblzf1 lua-bitop lua-cjson redis-server\n",
            "  redis-tools\n",
            "0 upgraded, 7 newly installed, 0 to remove and 35 not upgraded.\n",
            "Need to get 1,273 kB of archives.\n",
            "After this operation, 5,725 kB of additional disk space will be used.\n",
            "Get:1 http://archive.ubuntu.com/ubuntu jammy/universe amd64 libjemalloc2 amd64 5.2.1-4ubuntu1 [240 kB]\n",
            "Get:2 http://archive.ubuntu.com/ubuntu jammy/universe amd64 liblua5.1-0 amd64 5.1.5-8.1build4 [99.9 kB]\n",
            "Get:3 http://archive.ubuntu.com/ubuntu jammy/universe amd64 liblzf1 amd64 3.6-3 [7,444 B]\n",
            "Get:4 http://archive.ubuntu.com/ubuntu jammy/universe amd64 lua-bitop amd64 1.0.2-5 [6,680 B]\n",
            "Get:5 http://archive.ubuntu.com/ubuntu jammy/universe amd64 lua-cjson amd64 2.1.0+dfsg-2.1 [17.4 kB]\n",
            "Get:6 http://archive.ubuntu.com/ubuntu jammy/universe amd64 redis-tools amd64 5:6.0.16-1ubuntu1 [856 kB]\n",
            "Get:7 http://archive.ubuntu.com/ubuntu jammy/universe amd64 redis-server amd64 5:6.0.16-1ubuntu1 [45.9 kB]\n",
            "Fetched 1,273 kB in 1s (1,014 kB/s)\n",
            "Selecting previously unselected package libjemalloc2:amd64.\n",
            "(Reading database ... 126109 files and directories currently installed.)\n",
            "Preparing to unpack .../0-libjemalloc2_5.2.1-4ubuntu1_amd64.deb ...\n",
            "Unpacking libjemalloc2:amd64 (5.2.1-4ubuntu1) ...\n",
            "Selecting previously unselected package liblua5.1-0:amd64.\n",
            "Preparing to unpack .../1-liblua5.1-0_5.1.5-8.1build4_amd64.deb ...\n",
            "Unpacking liblua5.1-0:amd64 (5.1.5-8.1build4) ...\n",
            "Selecting previously unselected package liblzf1:amd64.\n",
            "Preparing to unpack .../2-liblzf1_3.6-3_amd64.deb ...\n",
            "Unpacking liblzf1:amd64 (3.6-3) ...\n",
            "Selecting previously unselected package lua-bitop:amd64.\n",
            "Preparing to unpack .../3-lua-bitop_1.0.2-5_amd64.deb ...\n",
            "Unpacking lua-bitop:amd64 (1.0.2-5) ...\n",
            "Selecting previously unselected package lua-cjson:amd64.\n",
            "Preparing to unpack .../4-lua-cjson_2.1.0+dfsg-2.1_amd64.deb ...\n",
            "Unpacking lua-cjson:amd64 (2.1.0+dfsg-2.1) ...\n",
            "Selecting previously unselected package redis-tools.\n",
            "Preparing to unpack .../5-redis-tools_5%3a6.0.16-1ubuntu1_amd64.deb ...\n",
            "Unpacking redis-tools (5:6.0.16-1ubuntu1) ...\n",
            "Selecting previously unselected package redis-server.\n",
            "Preparing to unpack .../6-redis-server_5%3a6.0.16-1ubuntu1_amd64.deb ...\n",
            "Unpacking redis-server (5:6.0.16-1ubuntu1) ...\n",
            "Setting up libjemalloc2:amd64 (5.2.1-4ubuntu1) ...\n",
            "Setting up lua-cjson:amd64 (2.1.0+dfsg-2.1) ...\n",
            "Setting up liblzf1:amd64 (3.6-3) ...\n",
            "Setting up lua-bitop:amd64 (1.0.2-5) ...\n",
            "Setting up liblua5.1-0:amd64 (5.1.5-8.1build4) ...\n",
            "Setting up redis-tools (5:6.0.16-1ubuntu1) ...\n",
            "Setting up redis-server (5:6.0.16-1ubuntu1) ...\n",
            "invoke-rc.d: could not determine current runlevel\n",
            "invoke-rc.d: policy-rc.d denied execution of start.\n",
            "Created symlink /etc/systemd/system/redis.service → /lib/systemd/system/redis-server.service.\n",
            "Created symlink /etc/systemd/system/multi-user.target.wants/redis-server.service → /lib/systemd/system/redis-server.service.\n",
            "Processing triggers for man-db (2.10.2-1) ...\n",
            "Processing triggers for libc-bin (2.35-0ubuntu3.8) ...\n",
            "/sbin/ldconfig.real: /usr/local/lib/libumf.so.0 is not a symbolic link\n",
            "\n",
            "/sbin/ldconfig.real: /usr/local/lib/libtbbmalloc.so.2 is not a symbolic link\n",
            "\n",
            "/sbin/ldconfig.real: /usr/local/lib/libtbbbind.so.3 is not a symbolic link\n",
            "\n",
            "/sbin/ldconfig.real: /usr/local/lib/libtcm_debug.so.1 is not a symbolic link\n",
            "\n",
            "/sbin/ldconfig.real: /usr/local/lib/libhwloc.so.15 is not a symbolic link\n",
            "\n",
            "/sbin/ldconfig.real: /usr/local/lib/libtcm.so.1 is not a symbolic link\n",
            "\n",
            "/sbin/ldconfig.real: /usr/local/lib/libur_adapter_level_zero.so.0 is not a symbolic link\n",
            "\n",
            "/sbin/ldconfig.real: /usr/local/lib/libtbbbind_2_0.so.3 is not a symbolic link\n",
            "\n",
            "/sbin/ldconfig.real: /usr/local/lib/libur_adapter_opencl.so.0 is not a symbolic link\n",
            "\n",
            "/sbin/ldconfig.real: /usr/local/lib/libtbbbind_2_5.so.3 is not a symbolic link\n",
            "\n",
            "/sbin/ldconfig.real: /usr/local/lib/libur_loader.so.0 is not a symbolic link\n",
            "\n",
            "/sbin/ldconfig.real: /usr/local/lib/libtbb.so.12 is not a symbolic link\n",
            "\n",
            "/sbin/ldconfig.real: /usr/local/lib/libtbbmalloc_proxy.so.2 is not a symbolic link\n",
            "\n",
            "Collecting redis\n",
            "  Downloading redis-6.2.0-py3-none-any.whl.metadata (10 kB)\n",
            "Downloading redis-6.2.0-py3-none-any.whl (278 kB)\n",
            "\u001b[2K   \u001b[90m━━━━━━━━━━━━━━━━━━━━━━━━━━━━━━━━━━━━━━━━\u001b[0m \u001b[32m278.7/278.7 kB\u001b[0m \u001b[31m3.8 MB/s\u001b[0m eta \u001b[36m0:00:00\u001b[0m\n",
            "\u001b[?25hInstalling collected packages: redis\n",
            "Successfully installed redis-6.2.0\n"
          ]
        }
      ],
      "source": [
        "#Install and Start Redis\n",
        "!apt-get install redis-server -y\n",
        "!pip install redis\n",
        "!redis-server --daemonize yes"
      ]
    },
    {
      "cell_type": "code",
      "source": [
        "import redis\n",
        "import json\n",
        "import uuid\n",
        "class MemoryStore:\n",
        "    def __init__(self):\n",
        "        self.db = redis.Redis(host='localhost', port=6379, db=0)\n",
        "\n",
        "    def log_entry(self, entry):\n",
        "        key = str(uuid.uuid4())\n",
        "        entry[\"timestamp\"] = str(uuid.uuid1())\n",
        "        self.db.set(key, json.dumps(entry))\n",
        "\n",
        "    def view_all(self):\n",
        "        logs = []\n",
        "        for key in self.db.keys():\n",
        "            logs.append(json.loads(self.db.get(key)))\n",
        "        return logs"
      ],
      "metadata": {
        "id": "Ho7hRm9vpCx-"
      },
      "execution_count": null,
      "outputs": []
    },
    {
      "cell_type": "code",
      "source": [
        "import json\n",
        "def detect_format(data):\n",
        "    try:\n",
        "        json.loads(data)\n",
        "        return \"JSON\"\n",
        "    except:\n",
        "        if \"From:\" in data:\n",
        "            return \"Email\"\n",
        "        return \"PDF\""
      ],
      "metadata": {
        "id": "Zj5N3wpup4H8"
      },
      "execution_count": null,
      "outputs": []
    },
    {
      "cell_type": "code",
      "source": [
        "def classify_intent(data):\n",
        "    data_lower = data.lower()\n",
        "    if \"invoice\" in data_lower:\n",
        "        return \"Invoice\"\n",
        "    elif \"rfq\" in data_lower:\n",
        "        return \"RFQ\"\n",
        "    elif \"complaint\" in data_lower:\n",
        "        return \"Complaint\"\n",
        "    elif \"regulation\" in data_lower:\n",
        "        return \"Regulation\"\n",
        "    return \"Unknown\""
      ],
      "metadata": {
        "id": "gdoEkkQ3puGi"
      },
      "execution_count": null,
      "outputs": []
    },
    {
      "cell_type": "code",
      "source": [
        "class FallbackAgent:\n",
        "    def __init__(self, memory):\n",
        "        self.memory = memory\n",
        "    def handle(self, data, reason=\"Unclassified\"):\n",
        "        print(\"Fallback triggered. Reason:\", reason)\n",
        "        self.memory.log_entry({\n",
        "            \"type\": \"Fallback\",\n",
        "            \"reason\": reason,\n",
        "            \"raw_data\": data\n",
        "        })"
      ],
      "metadata": {
        "id": "oKPkHzH_r9w8"
      },
      "execution_count": null,
      "outputs": []
    },
    {
      "cell_type": "code",
      "source": [
        "class JSONAgent:\n",
        "    def __init__(self, memory):\n",
        "        self.memory = memory\n",
        "    def handle(self, data):\n",
        "        try:\n",
        "            json_obj = json.loads(data)\n",
        "            print(\"JSON Parsed:\", json_obj)\n",
        "            self.memory.log_entry({\n",
        "                \"type\": \"JSON\",\n",
        "                \"data\": json_obj,\n",
        "                \"status\": \"Processed\"\n",
        "            })\n",
        "        except Exception as e:\n",
        "            print(\"JSON Error:\", str(e))"
      ],
      "metadata": {
        "id": "lgmbbyE0sM3j"
      },
      "execution_count": null,
      "outputs": []
    },
    {
      "cell_type": "code",
      "source": [
        "class EmailAgent:\n",
        "    def __init__(self, memory):\n",
        "        self.memory = memory\n",
        "\n",
        "    def handle(self, data):\n",
        "        lines = data.splitlines()\n",
        "        sender = \"\"\n",
        "        urgency = \"Normal\"\n",
        "        for line in lines:\n",
        "            if line.lower().startswith(\"from:\"):\n",
        "                sender = line.split(\":\", 1)[1].strip()\n",
        "            if \"urgent\" in line.lower():\n",
        "                urgency = \"High\"\n",
        "\n",
        "        self.memory.log_entry({\n",
        "            \"type\": \"Email\",\n",
        "            \"sender\": sender,\n",
        "            \"urgency\": urgency,\n",
        "            \"content\": data\n",
        "        })\n",
        "        print(f\"Email from {sender}, Urgency: {urgency}\")"
      ],
      "metadata": {
        "id": "uQeDROG3sWpa"
      },
      "execution_count": null,
      "outputs": []
    },
    {
      "cell_type": "code",
      "source": [
        "class ClassifierAgent:\n",
        "    def __init__(self, memory):\n",
        "        self.memory = memory\n",
        "    def classify(self, data):\n",
        "        # Use the functions defined in the notebook directly\n",
        "        file_format = detect_format(data)\n",
        "        intent = classify_intent(data)\n",
        "        self.memory.log_entry({\n",
        "            \"type\": \"Classifier\",\n",
        "            \"format\": file_format,\n",
        "            \"intent\": intent\n",
        "        })\n",
        "        return file_format, intent"
      ],
      "metadata": {
        "id": "t0MP2cu9spvy"
      },
      "execution_count": null,
      "outputs": []
    },
    {
      "cell_type": "code",
      "source": [
        "# Instantiate all agents\n",
        "memory = MemoryStore()\n",
        "classifier = ClassifierAgent(memory)\n",
        "json_agent = JSONAgent(memory)\n",
        "email_agent = EmailAgent(memory)\n",
        "fallback_agent = FallbackAgent(memory)\n",
        "\n",
        "def process_input(input_data):\n",
        "    file_format, intent = classifier.classify(input_data)\n",
        "    print(f\"Format: {file_format}, Intent: {intent}\")\n",
        "\n",
        "    if file_format == \"Unknown\":\n",
        "        fallback_agent.handle(input_data, reason=\"Unknown Format\")\n",
        "    elif intent == \"Unknown\":\n",
        "        fallback_agent.handle(input_data, reason=\"Unknown Intent\")\n",
        "    else:\n",
        "        if file_format == \"JSON\":\n",
        "            json_agent.handle(input_data)\n",
        "        elif file_format == \"Email\":\n",
        "            email_agent.handle(input_data)\n",
        "        elif file_format == \"PDF\":\n",
        "            print(\"PDF simulated handling.\")\n",
        "            memory.log_entry({\n",
        "                \"type\": \"PDF\",\n",
        "                \"note\": \"Simulated PDF handler\",\n",
        "                \"content\": input_data\n",
        "            })\n",
        "        else:\n",
        "            fallback_agent.handle(input_data, reason=\"Unhandled Format\")"
      ],
      "metadata": {
        "id": "l4C3tqNAssFj"
      },
      "execution_count": null,
      "outputs": []
    },
    {
      "cell_type": "code",
      "source": [
        "json_ip = '''\n",
        "{\n",
        "    \"id\": \"202245\",\n",
        "    \"amount\": 5000,\n",
        "    \"email\": \"uppandakeerthana@gmail.com\",\n",
        "    \"type\": \"invoice\"\n",
        "}\n",
        "'''\n",
        "process_input(json_ip)"
      ],
      "metadata": {
        "colab": {
          "base_uri": "https://localhost:8080/"
        },
        "id": "13G1toZTt3np",
        "outputId": "297804b9-5538-4b4e-de47-7c88d1e28b9e"
      },
      "execution_count": null,
      "outputs": [
        {
          "output_type": "stream",
          "name": "stdout",
          "text": [
            "Format: JSON, Intent: Invoice\n",
            "JSON Parsed: {'id': '202245', 'amount': 5000, 'email': 'uppandakeerthana@gmail.com', 'type': 'invoice'}\n"
          ]
        }
      ]
    },
    {
      "cell_type": "code",
      "source": [
        "email_input = \"\"\"\n",
        "From: uppandakeerthana@gmail.com\n",
        "Subject: Complaint - Product not delivered\n",
        "Dear Support,\n",
        "\n",
        "I placed an order two weeks ago and still haven't received the product. Please investigate and get back to me urgently.\n",
        "\n",
        "Regards,\n",
        "Keerthana\n",
        "\"\"\"\n",
        "process_input(email_input)"
      ],
      "metadata": {
        "colab": {
          "base_uri": "https://localhost:8080/"
        },
        "id": "eINLnt2fvEHb",
        "outputId": "3a0bdbf9-8945-4e0f-952c-93eeaff0aa40"
      },
      "execution_count": null,
      "outputs": [
        {
          "output_type": "stream",
          "name": "stdout",
          "text": [
            "Format: Email, Intent: Complaint\n",
            "Email from uppandakeerthana@gmail.com, Urgency: High\n"
          ]
        }
      ]
    },
    {
      "cell_type": "code",
      "source": [
        "email_input = \"\"\"\n",
        "From: uppandakeerthana@gmail.com\n",
        "Subject: RFQ for hardware\n",
        "\n",
        "Hello Team,\n",
        "\n",
        "We are interested in procuring 200 laptops for our new office expansion. Kindly send us your best quotation.\n",
        "\n",
        "Regards,\n",
        "Keerthana\n",
        "\"\"\"\n",
        "process_input(email_input)"
      ],
      "metadata": {
        "colab": {
          "base_uri": "https://localhost:8080/"
        },
        "id": "rZ_1Cbd2v0Sa",
        "outputId": "f8789840-f392-4eb2-ed81-f0d9179f42a6"
      },
      "execution_count": null,
      "outputs": [
        {
          "output_type": "stream",
          "name": "stdout",
          "text": [
            "Format: Email, Intent: RFQ\n",
            "Email from uppandakeerthana@gmail.com, Urgency: Normal\n"
          ]
        }
      ]
    },
    {
      "cell_type": "code",
      "source": [
        "pdf_input = \"\"\"\n",
        "Subject: New Workplace Regulation 2024-C\n",
        "\n",
        "As per regulation 2024-C, all contractors must submit compliance certificates by 30 June 2025.\n",
        "\n",
        "Issued by: Health and Safety Board\n",
        "\"\"\"\n",
        "process_input(pdf_input)"
      ],
      "metadata": {
        "colab": {
          "base_uri": "https://localhost:8080/"
        },
        "id": "S0e7Iy-vv9ng",
        "outputId": "1e7e46a9-dbe6-44c9-c415-8dbce3834220"
      },
      "execution_count": null,
      "outputs": [
        {
          "output_type": "stream",
          "name": "stdout",
          "text": [
            "Format: PDF, Intent: Regulation\n",
            "PDF simulated handling.\n"
          ]
        }
      ]
    },
    {
      "cell_type": "code",
      "source": [
        "print(\"\\n MEMORY LOGS:\")\n",
        "for entry in memory.view_all():\n",
        "    print(entry)"
      ],
      "metadata": {
        "colab": {
          "base_uri": "https://localhost:8080/"
        },
        "id": "YLT9dQmqwQOc",
        "outputId": "a48bcd6b-259d-4eab-a004-b6286c68b4b4"
      },
      "execution_count": null,
      "outputs": [
        {
          "output_type": "stream",
          "name": "stdout",
          "text": [
            "\n",
            " MEMORY LOGS:\n",
            "{'type': 'Classifier', 'format': 'PDF', 'intent': 'Regulation', 'timestamp': 'e34e6f3a-3bba-11f0-9c5b-0242ac1c000c'}\n",
            "{'type': 'Classifier', 'format': 'Email', 'intent': 'RFQ', 'timestamp': '60cbc828-3bba-11f0-9c5b-0242ac1c000c'}\n",
            "{'type': 'Fallback', 'reason': 'Unknown Intent', 'raw_data': '\\nHey team, just checking in to see how everyone’s doing. No rush — just saying hi!\\n', 'timestamp': '8b2b5346-3bb9-11f0-9c5b-0242ac1c000c'}\n",
            "{'type': 'Classifier', 'format': 'JSON', 'intent': 'Invoice', 'timestamp': 'cb326fe2-3bb9-11f0-9c5b-0242ac1c000c'}\n",
            "{'type': 'Email', 'sender': 'uppandakeerthana@gmail.com', 'urgency': 'High', 'content': \"\\nFrom: uppandakeerthana@gmail.com\\nSubject: Complaint - Product not delivered\\nDear Support,\\n\\nI placed an order two weeks ago and still haven't received the product. Please investigate and get back to me urgently.\\n\\nRegards,\\nKeerthana\\n\", 'timestamp': '8f006bd6-3bba-11f0-9c5b-0242ac1c000c'}\n",
            "{'type': 'Email', 'sender': 'uppandakeerthana@gmail.com', 'urgency': 'Normal', 'content': '\\nFrom: uppandakeerthana@gmail.com\\nSubject: RFQ for hardware\\n\\nHello Team,\\n\\nWe are interested in procuring 200 laptops for our new office expansion. Kindly send us your best quotation.\\n\\nRegards,\\nKeerthana\\n', 'timestamp': '60cbf5e6-3bba-11f0-9c5b-0242ac1c000c'}\n",
            "{'type': 'Classifier', 'format': 'PDF', 'intent': 'Regulation', 'timestamp': '8b2b317c-3bb9-11f0-9c5b-0242ac1c000c'}\n",
            "{'type': 'Classifier', 'format': 'Email', 'intent': 'Complaint', 'timestamp': '8f003e5e-3bba-11f0-9c5b-0242ac1c000c'}\n",
            "{'type': 'Classifier', 'format': 'Email', 'intent': 'RFQ', 'timestamp': 'a8c84764-3bba-11f0-9c5b-0242ac1c000c'}\n",
            "{'type': 'Fallback', 'reason': 'Unknown Intent', 'raw_data': '\\nHey team, just checking in to see how everyone’s doing. No rush — just saying hi!\\n', 'timestamp': 'cb331046-3bb9-11f0-9c5b-0242ac1c000c'}\n",
            "{'type': 'Classifier', 'format': 'Email', 'intent': 'Complaint', 'timestamp': '8b2b1822-3bb9-11f0-9c5b-0242ac1c000c'}\n",
            "{'type': 'PDF', 'note': 'Simulated PDF handler', 'content': '\\nNotice: As per new regulation 2024-A, all vendors must comply with updated safety procedures by Q3 2025.\\n\\nIssued by: Compliance Office\\n', 'timestamp': 'cb32f322-3bb9-11f0-9c5b-0242ac1c000c'}\n",
            "{'type': 'Classifier', 'format': 'JSON', 'intent': 'Invoice', 'timestamp': '37af8ab0-3bba-11f0-9c5b-0242ac1c000c'}\n",
            "{'type': 'Classifier', 'format': 'JSON', 'intent': 'Invoice', 'timestamp': '2ad49df8-3bba-11f0-9c5b-0242ac1c000c'}\n",
            "{'type': 'Classifier', 'format': 'JSON', 'intent': 'Invoice', 'timestamp': '8b2a4b2c-3bb9-11f0-9c5b-0242ac1c000c'}\n",
            "{'type': 'Classifier', 'format': 'Email', 'intent': 'RFQ', 'timestamp': '8b2af8d8-3bb9-11f0-9c5b-0242ac1c000c'}\n",
            "{'type': 'Email', 'sender': 'user123@example.com', 'urgency': 'High', 'content': \"\\nFrom: user123@example.com\\nSubject: Complaint - Product not delivered\\nDear Support,\\n\\nI placed an order two weeks ago and still haven't received the product. Please investigate and get back to me urgently.\\n\\nRegards,\\nA dissatisfied customer\\n\", 'timestamp': '8b2b21f0-3bb9-11f0-9c5b-0242ac1c000c'}\n",
            "{'type': 'Email', 'sender': 'uppandakeerthana@gmail.com', 'urgency': 'Normal', 'content': '\\nFrom: uppandakeerthana@gmail.com\\nSubject: RFQ - Request for 100 chairs\\nHello Team,\\n\\nWe would like to request a quotation for 100 ergonomic chairs needed for our new office setup. Please respond by Friday.\\n\\nBest,\\nKeerthana\\n', 'timestamp': '8b2b04f4-3bb9-11f0-9c5b-0242ac1c000c'}\n",
            "{'type': 'Email', 'sender': 'uppandakeerthana@gmail.com', 'urgency': 'Normal', 'content': '\\nFrom: uppandakeerthana@gmail.com\\nSubject: RFQ for hardware\\n\\nHello Team,\\n\\nWe are interested in procuring 200 laptops for our new office expansion. Kindly send us your best quotation.\\n\\nRegards,\\nKeerthana\\n', 'timestamp': 'a8c869ec-3bba-11f0-9c5b-0242ac1c000c'}\n",
            "{'type': 'JSON', 'data': {'id': '202245', 'amount': 5000, 'email': 'uppandakeerthana@gmail.com', 'type': 'invoice'}, 'status': 'Processed', 'timestamp': '2ad4beaa-3bba-11f0-9c5b-0242ac1c000c'}\n",
            "{'type': 'Classifier', 'format': 'PDF', 'intent': 'Unknown', 'timestamp': '8b2b4a9a-3bb9-11f0-9c5b-0242ac1c000c'}\n",
            "{'type': 'Classifier', 'format': 'PDF', 'intent': 'Regulation', 'timestamp': 'cb32e88c-3bb9-11f0-9c5b-0242ac1c000c'}\n",
            "{'type': 'JSON', 'data': {'id': '202245', 'amount': 5000, 'email': 'uppandakeerthana@gmail.com', 'type': 'invoice'}, 'status': 'Processed', 'timestamp': '8b2ae15e-3bb9-11f0-9c5b-0242ac1c000c'}\n",
            "{'type': 'PDF', 'note': 'Simulated PDF handler', 'content': '\\nSubject: New Workplace Regulation 2024-C\\n\\nAs per regulation 2024-C, all contractors must submit compliance certificates by 30 June 2025.\\n\\nIssued by: Health and Safety Board\\n', 'timestamp': 'e34ea432-3bba-11f0-9c5b-0242ac1c000c'}\n",
            "{'type': 'Classifier', 'format': 'Email', 'intent': 'RFQ', 'timestamp': 'cb32b04c-3bb9-11f0-9c5b-0242ac1c000c'}\n",
            "{'type': 'Email', 'sender': 'anupama@gmail.com', 'urgency': 'High', 'content': \"\\nFrom: anupama@gmail.com\\nSubject: Complaint - Product not delivered\\nDear Support,\\n\\nI placed an order two weeks ago and still haven't received the product. Please investigate and get back to me urgently.\\n\\nRegards,\\nA dissatisfied customer\\n\", 'timestamp': 'cb32d7d4-3bb9-11f0-9c5b-0242ac1c000c'}\n",
            "{'type': 'JSON', 'data': {'id': '202245', 'amount': 5000, 'email': 'uppandakeerthana@gmail.com', 'type': 'invoice'}, 'status': 'Processed', 'timestamp': 'cb328dec-3bb9-11f0-9c5b-0242ac1c000c'}\n",
            "{'type': 'JSON', 'data': {'id': '202245', 'amount': 5000, 'email': 'uppandakeerthana@gmail.com', 'type': 'invoice'}, 'status': 'Processed', 'timestamp': '37afa5b8-3bba-11f0-9c5b-0242ac1c000c'}\n",
            "{'type': 'Email', 'sender': 'uppandakeerthana@gmail.com', 'urgency': 'Normal', 'content': '\\nFrom: uppandakeerthana@gmail.com\\nSubject: RFQ - Request for 100 chairs\\nHello Team,\\n\\nWe would like to request a quotation for 100 ergonomic chairs needed for our new office setup. Please respond by Friday.\\n\\nBest,\\nKeerthana\\n', 'timestamp': 'cb32bc5e-3bb9-11f0-9c5b-0242ac1c000c'}\n",
            "{'type': 'Classifier', 'format': 'PDF', 'intent': 'Unknown', 'timestamp': 'cb3305f6-3bb9-11f0-9c5b-0242ac1c000c'}\n",
            "{'type': 'Classifier', 'format': 'Email', 'intent': 'Complaint', 'timestamp': 'cb32cc6c-3bb9-11f0-9c5b-0242ac1c000c'}\n",
            "{'type': 'PDF', 'note': 'Simulated PDF handler', 'content': '\\nNotice: As per new regulation 2024-A, all vendors must comply with updated safety procedures by Q3 2025.\\n\\nIssued by: Compliance Office\\n', 'timestamp': '8b2b3bae-3bb9-11f0-9c5b-0242ac1c000c'}\n"
          ]
        }
      ]
    }
  ]
}